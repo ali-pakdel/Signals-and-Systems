{
  "nbformat": 4,
  "nbformat_minor": 0,
  "metadata": {
    "colab": {
      "name": "Question3.ipynb",
      "provenance": []
    },
    "kernelspec": {
      "name": "python3",
      "display_name": "Python 3"
    },
    "language_info": {
      "name": "python"
    }
  },
  "cells": [
    {
      "cell_type": "markdown",
      "metadata": {
        "id": "5OibFvX1gLaV"
      },
      "source": [
        "# **Question 3**\n",
        "\n",
        "به صورت دستی در گزارش آپلود شده و رسم با پایتون در سوال ۴ قسمت اول انجام شده است."
      ]
    }
  ]
}