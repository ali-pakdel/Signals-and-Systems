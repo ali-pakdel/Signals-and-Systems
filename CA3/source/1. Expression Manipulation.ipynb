{
  "nbformat": 4,
  "nbformat_minor": 0,
  "metadata": {
    "colab": {
      "name": "CA3_Q1.ipynb",
      "provenance": [],
      "collapsed_sections": []
    },
    "kernelspec": {
      "name": "python3",
      "display_name": "Python 3"
    },
    "language_info": {
      "name": "python"
    }
  },
  "cells": [
    {
      "cell_type": "code",
      "execution_count": null,
      "metadata": {
        "colab": {
          "base_uri": "https://localhost:8080/"
        },
        "id": "P4p8G_jar0H0",
        "outputId": "dce35005-7f53-44a7-9efd-ae1a306e95da"
      },
      "outputs": [
        {
          "output_type": "stream",
          "name": "stdout",
          "text": [
            "Collecting lcapy\n",
            "  Cloning https://github.com/mph-/lcapy.git to /tmp/pip-install-xvko6apn/lcapy_7765479920f648f4959ec214d040f79f\n",
            "  Running command git clone -q https://github.com/mph-/lcapy.git /tmp/pip-install-xvko6apn/lcapy_7765479920f648f4959ec214d040f79f\n",
            "Requirement already satisfied: matplotlib in /usr/local/lib/python3.7/dist-packages (from lcapy) (3.2.2)\n",
            "Requirement already satisfied: scipy in /usr/local/lib/python3.7/dist-packages (from lcapy) (1.4.1)\n",
            "Requirement already satisfied: numpy in /usr/local/lib/python3.7/dist-packages (from lcapy) (1.19.5)\n",
            "Requirement already satisfied: sympy>=1.7.1 in /usr/local/lib/python3.7/dist-packages (from lcapy) (1.7.1)\n",
            "Requirement already satisfied: networkx in /usr/local/lib/python3.7/dist-packages (from lcapy) (2.6.3)\n",
            "Requirement already satisfied: IPython in /usr/local/lib/python3.7/dist-packages (from lcapy) (5.5.0)\n",
            "Requirement already satisfied: setuptools in /usr/local/lib/python3.7/dist-packages (from lcapy) (57.4.0)\n",
            "Requirement already satisfied: wheel in /usr/local/lib/python3.7/dist-packages (from lcapy) (0.37.1)\n",
            "Collecting property_cached\n",
            "  Downloading property_cached-1.6.4-py2.py3-none-any.whl (7.8 kB)\n",
            "Requirement already satisfied: mpmath>=0.19 in /usr/local/lib/python3.7/dist-packages (from sympy>=1.7.1->lcapy) (1.2.1)\n",
            "Requirement already satisfied: decorator in /usr/local/lib/python3.7/dist-packages (from IPython->lcapy) (4.4.2)\n",
            "Requirement already satisfied: pygments in /usr/local/lib/python3.7/dist-packages (from IPython->lcapy) (2.6.1)\n",
            "Requirement already satisfied: pexpect in /usr/local/lib/python3.7/dist-packages (from IPython->lcapy) (4.8.0)\n",
            "Requirement already satisfied: traitlets>=4.2 in /usr/local/lib/python3.7/dist-packages (from IPython->lcapy) (5.1.1)\n",
            "Requirement already satisfied: prompt-toolkit<2.0.0,>=1.0.4 in /usr/local/lib/python3.7/dist-packages (from IPython->lcapy) (1.0.18)\n",
            "Requirement already satisfied: simplegeneric>0.8 in /usr/local/lib/python3.7/dist-packages (from IPython->lcapy) (0.8.1)\n",
            "Requirement already satisfied: pickleshare in /usr/local/lib/python3.7/dist-packages (from IPython->lcapy) (0.7.5)\n",
            "Requirement already satisfied: six>=1.9.0 in /usr/local/lib/python3.7/dist-packages (from prompt-toolkit<2.0.0,>=1.0.4->IPython->lcapy) (1.15.0)\n",
            "Requirement already satisfied: wcwidth in /usr/local/lib/python3.7/dist-packages (from prompt-toolkit<2.0.0,>=1.0.4->IPython->lcapy) (0.2.5)\n",
            "Requirement already satisfied: cycler>=0.10 in /usr/local/lib/python3.7/dist-packages (from matplotlib->lcapy) (0.11.0)\n",
            "Requirement already satisfied: pyparsing!=2.0.4,!=2.1.2,!=2.1.6,>=2.0.1 in /usr/local/lib/python3.7/dist-packages (from matplotlib->lcapy) (3.0.6)\n",
            "Requirement already satisfied: kiwisolver>=1.0.1 in /usr/local/lib/python3.7/dist-packages (from matplotlib->lcapy) (1.3.2)\n",
            "Requirement already satisfied: python-dateutil>=2.1 in /usr/local/lib/python3.7/dist-packages (from matplotlib->lcapy) (2.8.2)\n",
            "Requirement already satisfied: ptyprocess>=0.5 in /usr/local/lib/python3.7/dist-packages (from pexpect->IPython->lcapy) (0.7.0)\n",
            "Building wheels for collected packages: lcapy\n",
            "  Building wheel for lcapy (setup.py) ... \u001b[?25l\u001b[?25hdone\n",
            "  Created wheel for lcapy: filename=lcapy-1.2.dev0-py3-none-any.whl size=353463 sha256=406b62cd809a96050f52b1b85c053a6c8819a4ebf55655dd513f7e49f975623d\n",
            "  Stored in directory: /tmp/pip-ephem-wheel-cache-420gyw5r/wheels/44/95/6d/11b4afa6bca0b7ec709f28d03b26d3226463739d3d83557d77\n",
            "Successfully built lcapy\n",
            "Installing collected packages: property-cached, lcapy\n",
            "Successfully installed lcapy-1.2.dev0 property-cached-1.6.4\n"
          ]
        }
      ],
      "source": [
        "! pip install git+https://github.com/mph-/lcapy.git#egg=lcapy\n"
      ]
    },
    {
      "cell_type": "markdown",
      "source": [
        "## **سوال ۱**"
      ],
      "metadata": {
        "id": "sLigtZ8MuYQ_"
      }
    },
    {
      "cell_type": "markdown",
      "source": [
        "**الف)**"
      ],
      "metadata": {
        "id": "jx6s_0JYueqo"
      }
    },
    {
      "cell_type": "code",
      "source": [
        "from lcapy import *\n",
        "x = expr('A_1 * exp(-alpha * t)*u(t) + A_2 * exp(-beta * t)*sin(omega_0 * t + theta)*u(t)')\n",
        "print(list(x.symbols))\n",
        "x.expr"
      ],
      "metadata": {
        "colab": {
          "base_uri": "https://localhost:8080/",
          "height": 56
        },
        "id": "ekhGLujttlBy",
        "outputId": "4fa319e2-25a6-4753-da7a-a112d0c2723b"
      },
      "execution_count": null,
      "outputs": [
        {
          "output_type": "stream",
          "name": "stdout",
          "text": [
            "['A_2', 'theta', 't', 'alpha', 'A_1', 'beta', 'omega_0']\n"
          ]
        },
        {
          "output_type": "execute_result",
          "data": {
            "image/png": "[encoded data removed]",
            "text/latex": "$\\displaystyle A_{1} e^{- \\alpha t} u\\left(t\\right) + A_{2} e^{- \\beta t} \\sin{\\left(\\omega_{0} t + \\theta \\right)} u\\left(t\\right)$",
            "text/plain": [
              "    -α⋅t            -β⋅t                   \n",
              "A₁⋅ℯ    ⋅u(t) + A₂⋅ℯ    ⋅sin(ω₀⋅t + θ)⋅u(t)"
            ]
          },
          "metadata": {},
          "execution_count": 2
        }
      ]
    },
    {
      "cell_type": "markdown",
      "source": [
        "**ب)**"
      ],
      "metadata": {
        "id": "KMvusCamuibR"
      }
    },
    {
      "cell_type": "code",
      "source": [
        "X = x(s)\n",
        "X.expr"
      ],
      "metadata": {
        "colab": {
          "base_uri": "https://localhost:8080/",
          "height": 60
        },
        "id": "BLpHEpvHuSAu",
        "outputId": "0f4de96f-1bcf-4afe-8b09-2ecdcd18e9a8"
      },
      "execution_count": null,
      "outputs": [
        {
          "output_type": "execute_result",
          "data": {
            "image/png": "[encoded data removed]",
            "text/latex": "$\\displaystyle \\frac{A_{1}}{s \\left(\\frac{\\alpha}{s} + 1\\right)} + \\frac{A_{2} \\left(\\omega_{0} \\cos{\\left(\\theta \\right)} + \\left(\\beta + s\\right) \\sin{\\left(\\theta \\right)}\\right)}{\\omega_{0}^{2} + \\left(\\beta + s\\right)^{2}}$",
            "text/plain": [
              "    A₁      A₂⋅(ω₀⋅cos(θ) + (β + s)⋅sin(θ))\n",
              "───────── + ───────────────────────────────\n",
              "  ⎛α    ⎞              2          2        \n",
              "s⋅⎜─ + 1⎟            ω₀  + (β + s)         \n",
              "  ⎝s    ⎠                                  "
            ]
          },
          "metadata": {},
          "execution_count": 3
        }
      ]
    },
    {
      "cell_type": "markdown",
      "source": [
        "**ج)**"
      ],
      "metadata": {
        "id": "GNiq0xoiu6hz"
      }
    },
    {
      "cell_type": "code",
      "source": [
        "X.simplify().expr"
      ],
      "metadata": {
        "colab": {
          "base_uri": "https://localhost:8080/",
          "height": 83
        },
        "id": "bQAH2MLou-Vn",
        "outputId": "11da6172-f01d-48d8-8cff-34433195935e"
      },
      "execution_count": null,
      "outputs": [
        {
          "output_type": "execute_result",
          "data": {
            "image/png": "[encoded data removed]",
            "text/latex": "$\\displaystyle \\frac{A_{1} \\left(\\omega_{0}^{2} + \\left(\\beta + s\\right)^{2}\\right) + A_{2} \\left(\\alpha + s\\right) \\left(\\omega_{0} \\cos{\\left(\\theta \\right)} + \\left(\\beta + s\\right) \\sin{\\left(\\theta \\right)}\\right)}{\\left(\\alpha + s\\right) \\left(\\omega_{0}^{2} + \\left(\\beta + s\\right)^{2}\\right)}$",
            "text/plain": [
              "   ⎛  2          2⎞                                          \n",
              "A₁⋅⎝ω₀  + (β + s) ⎠ + A₂⋅(α + s)⋅(ω₀⋅cos(θ) + (β + s)⋅sin(θ))\n",
              "─────────────────────────────────────────────────────────────\n",
              "                           ⎛  2          2⎞                  \n",
              "                   (α + s)⋅⎝ω₀  + (β + s) ⎠                  "
            ]
          },
          "metadata": {},
          "execution_count": 4
        }
      ]
    },
    {
      "cell_type": "markdown",
      "source": [
        "**د)**"
      ],
      "metadata": {
        "id": "3bKLqYGCv23L"
      }
    },
    {
      "cell_type": "code",
      "source": [
        "X.partfrac().simplify_terms().expr"
      ],
      "metadata": {
        "colab": {
          "base_uri": "https://localhost:8080/",
          "height": 59
        },
        "id": "qO9l0RvhvZ1H",
        "outputId": "8e94dfcf-5c29-40d4-c727-b67814f6770a"
      },
      "execution_count": null,
      "outputs": [
        {
          "output_type": "execute_result",
          "data": {
            "image/png": "[encoded data removed]",
            "text/latex": "$\\displaystyle \\frac{A_{1}}{\\alpha + s} + \\frac{A_{2} e^{\\mathrm{j} \\theta}}{2 \\left(\\mathrm{j} \\beta + \\omega_{0} + \\mathrm{j} s\\right)} - \\frac{A_{2} e^{- \\mathrm{j} \\theta}}{2 \\left(\\mathrm{j} \\beta - \\omega_{0} + \\mathrm{j} s\\right)}$",
            "text/plain": [
              "                 ⅉ⋅θ                  -ⅉ⋅θ     \n",
              "  A₁         A₂⋅ℯ                 A₂⋅ℯ         \n",
              "───── + ────────────────── - ──────────────────\n",
              "α + s   2⋅(ⅉ⋅β + ω₀ + ⅉ⋅s)   2⋅(ⅉ⋅β - ω₀ + ⅉ⋅s)"
            ]
          },
          "metadata": {},
          "execution_count": 5
        }
      ]
    },
    {
      "cell_type": "markdown",
      "source": [
        "**ه)**"
      ],
      "metadata": {
        "id": "YSi3eOngv7o9"
      }
    },
    {
      "cell_type": "code",
      "source": [
        "X.ZPK().expr"
      ],
      "metadata": {
        "colab": {
          "base_uri": "https://localhost:8080/",
          "height": 101
        },
        "id": "UmudZsORv-aN",
        "outputId": "236f8c69-dffd-4cf8-aa89-483156cc1793"
      },
      "execution_count": null,
      "outputs": [
        {
          "output_type": "execute_result",
          "data": {
            "image/png": "[encoded data removed]",
            "text/latex": "$\\displaystyle \\frac{\\left(A_{1} + A_{2} \\sin{\\left(\\theta \\right)}\\right) \\left(s + \\frac{2 A_{1} \\beta + A_{2} \\alpha \\sin{\\left(\\theta \\right)} + A_{2} \\beta \\sin{\\left(\\theta \\right)} + A_{2} \\omega_{0} \\cos{\\left(\\theta \\right)}}{2 A_{1} + 2 A_{2} \\sin{\\left(\\theta \\right)}} - \\frac{\\sqrt{- 4 \\left(A_{1} + A_{2} \\sin{\\left(\\theta \\right)}\\right) \\left(A_{1} \\beta^{2} + A_{1} \\omega_{0}^{2} + A_{2} \\alpha \\beta \\sin{\\left(\\theta \\right)} + A_{2} \\alpha \\omega_{0} \\cos{\\left(\\theta \\right)}\\right) + \\left(2 A_{1} \\beta + A_{2} \\alpha \\sin{\\left(\\theta \\right)} + A_{2} \\beta \\sin{\\left(\\theta \\right)} + A_{2} \\omega_{0} \\cos{\\left(\\theta \\right)}\\right)^{2}}}{2 \\left(A_{1} + A_{2} \\sin{\\left(\\theta \\right)}\\right)}\\right) \\left(s + \\frac{2 A_{1} \\beta + A_{2} \\alpha \\sin{\\left(\\theta \\right)} + A_{2} \\beta \\sin{\\left(\\theta \\right)} + A_{2} \\omega_{0} \\cos{\\left(\\theta \\right)}}{2 A_{1} + 2 A_{2} \\sin{\\left(\\theta \\right)}} + \\frac{\\sqrt{- 4 \\left(A_{1} + A_{2} \\sin{\\left(\\theta \\right)}\\right) \\left(A_{1} \\beta^{2} + A_{1} \\omega_{0}^{2} + A_{2} \\alpha \\beta \\sin{\\left(\\theta \\right)} + A_{2} \\alpha \\omega_{0} \\cos{\\left(\\theta \\right)}\\right) + \\left(2 A_{1} \\beta + A_{2} \\alpha \\sin{\\left(\\theta \\right)} + A_{2} \\beta \\sin{\\left(\\theta \\right)} + A_{2} \\omega_{0} \\cos{\\left(\\theta \\right)}\\right)^{2}}}{2 \\left(A_{1} + A_{2} \\sin{\\left(\\theta \\right)}\\right)}\\right)}{\\left(\\alpha + s\\right) \\left(\\beta - \\mathrm{j} \\omega_{0} + s\\right) \\left(\\beta + \\mathrm{j} \\omega_{0} + s\\right)}$",
            "text/plain": [
              "                 ⎛                                                           _\n",
              "                 ⎜                                                          ╱ \n",
              "                 ⎜    2⋅A₁⋅β + A₂⋅α⋅sin(θ) + A₂⋅β⋅sin(θ) + A₂⋅ω₀⋅cos(θ)   ╲╱  \n",
              "(A₁ + A₂⋅sin(θ))⋅⎜s + ───────────────────────────────────────────────── - ────\n",
              "                 ⎝                    2⋅A₁ + 2⋅A₂⋅sin(θ)                      \n",
              "──────────────────────────────────────────────────────────────────────────────\n",
              "                                                                              \n",
              "\n",
              "______________________________________________________________________________\n",
              "                     ⎛    2        2                                 ⎞        \n",
              "- 4⋅(A₁ + A₂⋅sin(θ))⋅⎝A₁⋅β  + A₁⋅ω₀  + A₂⋅α⋅β⋅sin(θ) + A₂⋅α⋅ω₀⋅cos(θ)⎠ + (2⋅A₁\n",
              "──────────────────────────────────────────────────────────────────────────────\n",
              "                                                    2⋅(A₁ + A₂⋅sin(θ))        \n",
              "──────────────────────────────────────────────────────────────────────────────\n",
              "                                                                              \n",
              "\n",
              "________________________________________________⎞ ⎛                           \n",
              "                                              2 ⎟ ⎜                           \n",
              "⋅β + A₂⋅α⋅sin(θ) + A₂⋅β⋅sin(θ) + A₂⋅ω₀⋅cos(θ))  ⎟ ⎜    2⋅A₁⋅β + A₂⋅α⋅sin(θ) + \n",
              "────────────────────────────────────────────────⎟⋅⎜s + ───────────────────────\n",
              "                                                ⎠ ⎝                    2⋅A₁ + \n",
              "──────────────────────────────────────────────────────────────────────────────\n",
              "                      (α + s)⋅(β - ⅉ⋅ω₀ + s)⋅(β + ⅉ⋅ω₀ + s)                   \n",
              "\n",
              "                                ______________________________________________\n",
              "                               ╱                      ⎛    2        2         \n",
              "A₂⋅β⋅sin(θ) + A₂⋅ω₀⋅cos(θ)   ╲╱  - 4⋅(A₁ + A₂⋅sin(θ))⋅⎝A₁⋅β  + A₁⋅ω₀  + A₂⋅α⋅β\n",
              "────────────────────────── + ─────────────────────────────────────────────────\n",
              "2⋅A₂⋅sin(θ)                                                                   \n",
              "──────────────────────────────────────────────────────────────────────────────\n",
              "                                                                              \n",
              "\n",
              "______________________________________________________________________________\n",
              "                        ⎞                                                     \n",
              "⋅sin(θ) + A₂⋅α⋅ω₀⋅cos(θ)⎠ + (2⋅A₁⋅β + A₂⋅α⋅sin(θ) + A₂⋅β⋅sin(θ) + A₂⋅ω₀⋅cos(θ)\n",
              "──────────────────────────────────────────────────────────────────────────────\n",
              "       2⋅(A₁ + A₂⋅sin(θ))                                                     \n",
              "──────────────────────────────────────────────────────────────────────────────\n",
              "                                                                              \n",
              "\n",
              "___⎞\n",
              " 2 ⎟\n",
              ")  ⎟\n",
              "───⎟\n",
              "   ⎠\n",
              "────\n",
              "    "
            ]
          },
          "metadata": {},
          "execution_count": 6
        }
      ]
    }
  ]
}