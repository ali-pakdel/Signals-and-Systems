{
  "nbformat": 4,
  "nbformat_minor": 0,
  "metadata": {
    "colab": {
      "name": "CA3_Q2.ipynb",
      "provenance": [],
      "collapsed_sections": [],
      "toc_visible": true
    },
    "kernelspec": {
      "name": "python3",
      "display_name": "Python 3"
    },
    "language_info": {
      "name": "python"
    }
  },
  "cells": [
    {
      "cell_type": "code",
      "source": [
        "! pip install git+https://github.com/mph-/lcapy.git#egg=lcapy"
      ],
      "metadata": {
        "colab": {
          "base_uri": "https://localhost:8080/"
        },
        "id": "zdF0kxmMPpCk",
        "outputId": "f17b74e7-b9cb-4731-9611-77e078f0a73f"
      },
      "execution_count": 25,
      "outputs": [
        {
          "output_type": "stream",
          "name": "stdout",
          "text": [
            "Collecting lcapy\n",
            "  Cloning https://github.com/mph-/lcapy.git to /tmp/pip-install-yz5uuep2/lcapy_65c2229683c941a489023c1cd89312eb\n",
            "  Running command git clone -q https://github.com/mph-/lcapy.git /tmp/pip-install-yz5uuep2/lcapy_65c2229683c941a489023c1cd89312eb\n",
            "Requirement already satisfied: matplotlib in /usr/local/lib/python3.7/dist-packages (from lcapy) (3.2.2)\n",
            "Requirement already satisfied: scipy in /usr/local/lib/python3.7/dist-packages (from lcapy) (1.4.1)\n",
            "Requirement already satisfied: numpy in /usr/local/lib/python3.7/dist-packages (from lcapy) (1.19.5)\n",
            "Requirement already satisfied: sympy>=1.7.1 in /usr/local/lib/python3.7/dist-packages (from lcapy) (1.7.1)\n",
            "Requirement already satisfied: networkx in /usr/local/lib/python3.7/dist-packages (from lcapy) (2.6.3)\n",
            "Requirement already satisfied: IPython in /usr/local/lib/python3.7/dist-packages (from lcapy) (5.5.0)\n",
            "Requirement already satisfied: setuptools in /usr/local/lib/python3.7/dist-packages (from lcapy) (57.4.0)\n",
            "Requirement already satisfied: wheel in /usr/local/lib/python3.7/dist-packages (from lcapy) (0.37.1)\n",
            "Requirement already satisfied: property_cached in /usr/local/lib/python3.7/dist-packages (from lcapy) (1.6.4)\n",
            "Requirement already satisfied: mpmath>=0.19 in /usr/local/lib/python3.7/dist-packages (from sympy>=1.7.1->lcapy) (1.2.1)\n",
            "Requirement already satisfied: pickleshare in /usr/local/lib/python3.7/dist-packages (from IPython->lcapy) (0.7.5)\n",
            "Requirement already satisfied: decorator in /usr/local/lib/python3.7/dist-packages (from IPython->lcapy) (4.4.2)\n",
            "Requirement already satisfied: prompt-toolkit<2.0.0,>=1.0.4 in /usr/local/lib/python3.7/dist-packages (from IPython->lcapy) (1.0.18)\n",
            "Requirement already satisfied: simplegeneric>0.8 in /usr/local/lib/python3.7/dist-packages (from IPython->lcapy) (0.8.1)\n",
            "Requirement already satisfied: traitlets>=4.2 in /usr/local/lib/python3.7/dist-packages (from IPython->lcapy) (5.1.1)\n",
            "Requirement already satisfied: pygments in /usr/local/lib/python3.7/dist-packages (from IPython->lcapy) (2.6.1)\n",
            "Requirement already satisfied: pexpect in /usr/local/lib/python3.7/dist-packages (from IPython->lcapy) (4.8.0)\n",
            "Requirement already satisfied: wcwidth in /usr/local/lib/python3.7/dist-packages (from prompt-toolkit<2.0.0,>=1.0.4->IPython->lcapy) (0.2.5)\n",
            "Requirement already satisfied: six>=1.9.0 in /usr/local/lib/python3.7/dist-packages (from prompt-toolkit<2.0.0,>=1.0.4->IPython->lcapy) (1.15.0)\n",
            "Requirement already satisfied: python-dateutil>=2.1 in /usr/local/lib/python3.7/dist-packages (from matplotlib->lcapy) (2.8.2)\n",
            "Requirement already satisfied: kiwisolver>=1.0.1 in /usr/local/lib/python3.7/dist-packages (from matplotlib->lcapy) (1.3.2)\n",
            "Requirement already satisfied: pyparsing!=2.0.4,!=2.1.2,!=2.1.6,>=2.0.1 in /usr/local/lib/python3.7/dist-packages (from matplotlib->lcapy) (3.0.6)\n",
            "Requirement already satisfied: cycler>=0.10 in /usr/local/lib/python3.7/dist-packages (from matplotlib->lcapy) (0.11.0)\n",
            "Requirement already satisfied: ptyprocess>=0.5 in /usr/local/lib/python3.7/dist-packages (from pexpect->IPython->lcapy) (0.7.0)\n"
          ]
        }
      ]
    },
    {
      "cell_type": "markdown",
      "source": [
        "## **سوال ۲**\n",
        "\n",
        "**الف)**"
      ],
      "metadata": {
        "id": "nH3DV9XJyX-7"
      }
    },
    {
      "cell_type": "code",
      "source": [
        "from lcapy import Circuit\n",
        "\n",
        "a = Circuit(\"\"\"\n",
        "P1 1 0; down=1.5, v=v(t)\n",
        "R1 1 2; right\n",
        "L 2 3; right=1.5, i={i_L}\n",
        "R2 3 0_3; down=1.5, i={i_{R2}}, v={v_{R2}}\n",
        "W 0 0_3; right\n",
        "W 3 3_a; right\n",
        "C 3_a 0; down, i={i_C}, v={v_C}\n",
        "W 3_a 4; right\n",
        "P2 4 0; down, v^=v_s(t)\n",
        "\"\"\")"
      ],
      "metadata": {
        "id": "ypgR4VUfydMI"
      },
      "execution_count": 26,
      "outputs": []
    },
    {
      "cell_type": "markdown",
      "source": [
        "**ب)**"
      ],
      "metadata": {
        "id": "1_S_Gv-24VOk"
      }
    },
    {
      "cell_type": "code",
      "source": [
        "H = a.transfer(1, 0, 4, 0)\n",
        "H.expr"
      ],
      "metadata": {
        "colab": {
          "base_uri": "https://localhost:8080/",
          "height": 67
        },
        "id": "5lif383U4aVS",
        "outputId": "a51acbef-4901-4542-a998-0156f0c43676"
      },
      "execution_count": 27,
      "outputs": [
        {
          "output_type": "execute_result",
          "data": {
            "image/png": "[encoded data removed]",
            "text/latex": "$\\displaystyle \\frac{\\frac{1}{C} \\frac{1}{L}}{s^{2} + \\frac{s \\left(C R_{1} R_{2} + L\\right)}{C L R_{2}} + \\frac{R_{1} + R_{2}}{C L R_{2}}}$",
            "text/plain": [
              "            ⎛ 1 ⎞             \n",
              "            ⎜───⎟             \n",
              "            ⎝C⋅L⎠             \n",
              "──────────────────────────────\n",
              " 2   s⋅(C⋅R₁⋅R₂ + L)   R₁ + R₂\n",
              "s  + ─────────────── + ───────\n",
              "          C⋅L⋅R₂        C⋅L⋅R₂"
            ]
          },
          "metadata": {},
          "execution_count": 27
        }
      ]
    },
    {
      "cell_type": "markdown",
      "source": [
        "**ج)**"
      ],
      "metadata": {
        "id": "PTABkNdw8hQy"
      }
    },
    {
      "cell_type": "code",
      "source": [
        "H.ZPK().expr"
      ],
      "metadata": {
        "colab": {
          "base_uri": "https://localhost:8080/",
          "height": 83
        },
        "id": "DYCFehgi8kNE",
        "outputId": "e631cf99-ca17-47e4-fbce-5675ccbdf83c"
      },
      "execution_count": 28,
      "outputs": [
        {
          "output_type": "execute_result",
          "data": {
            "image/png": "[encoded data removed]",
            "text/latex": "$\\displaystyle \\frac{\\frac{1}{C} \\frac{1}{L}}{\\left(s + \\frac{C R_{1} R_{2} + L}{2 C L R_{2}} - \\frac{\\sqrt{C^{2} R_{1}^{2} R_{2}^{2} - 2 C L R_{1} R_{2} - 4 C L R_{2}^{2} + L^{2}}}{2 C L R_{2}}\\right) \\left(s + \\frac{C R_{1} R_{2} + L}{2 C L R_{2}} + \\frac{\\sqrt{C^{2} R_{1}^{2} R_{2}^{2} - 2 C L R_{1} R_{2} - 4 C L R_{2}^{2} + L^{2}}}{2 C L R_{2}}\\right)}$",
            "text/plain": [
              "                                                                ⎛ 1 ⎞         \n",
              "                                                                ⎜───⎟         \n",
              "                                                                ⎝C⋅L⎠         \n",
              "──────────────────────────────────────────────────────────────────────────────\n",
              "⎛                     ___________________________________________⎞ ⎛          \n",
              "⎜                    ╱  2   2   2                         2    2 ⎟ ⎜          \n",
              "⎜    C⋅R₁⋅R₂ + L   ╲╱  C ⋅R₁ ⋅R₂  - 2⋅C⋅L⋅R₁⋅R₂ - 4⋅C⋅L⋅R₂  + L  ⎟ ⎜    C⋅R₁⋅R\n",
              "⎜s + ─────────── - ──────────────────────────────────────────────⎟⋅⎜s + ──────\n",
              "⎝      2⋅C⋅L⋅R₂                       2⋅C⋅L⋅R₂                   ⎠ ⎝      2⋅C⋅\n",
              "\n",
              "                                                       \n",
              "                                                       \n",
              "                                                       \n",
              "───────────────────────────────────────────────────────\n",
              "           ___________________________________________⎞\n",
              "          ╱  2   2   2                         2    2 ⎟\n",
              "₂ + L   ╲╱  C ⋅R₁ ⋅R₂  - 2⋅C⋅L⋅R₁⋅R₂ - 4⋅C⋅L⋅R₂  + L  ⎟\n",
              "───── + ──────────────────────────────────────────────⎟\n",
              "L⋅R₂                       2⋅C⋅L⋅R₂                   ⎠"
            ]
          },
          "metadata": {},
          "execution_count": 28
        }
      ]
    },
    {
      "cell_type": "markdown",
      "source": [
        "**د)**"
      ],
      "metadata": {
        "id": "av5CgJWm9vth"
      }
    },
    {
      "cell_type": "code",
      "source": [
        "from lcapy import Circuit\n",
        "\n",
        "b = Circuit(\"\"\"\n",
        "P1 1 0; down=1.5, v=v(t)\n",
        "R1 1 2 4; right\n",
        "L 2 3 {5/2}; right=1.5, i={i_L}\n",
        "R2 3 0_3 2; down=1.5, i={i_{R2}}, v={v_{R2}}\n",
        "W 0 0_3; right\n",
        "W 3 3_a; right\n",
        "C 3_a 0 {1/4}; down, i={i_C}, v={v_C}\n",
        "W 3_a 4; right\n",
        "P2 4 0; down, v^=v_s(t)\n",
        "\"\"\")\n",
        "\n",
        "H = b.transfer(1, 0, 4, 0)\n",
        "H.expr"
      ],
      "metadata": {
        "colab": {
          "base_uri": "https://localhost:8080/",
          "height": 58
        },
        "id": "K9mfL4Pb9yx1",
        "outputId": "4aef70c4-771d-4aea-c617-a6bd0134a9f6"
      },
      "execution_count": 29,
      "outputs": [
        {
          "output_type": "execute_result",
          "data": {
            "image/png": "[encoded data removed]",
            "text/latex": "$\\displaystyle \\frac{8}{5 \\left(s^{2} + \\frac{18 s}{5} + \\frac{24}{5}\\right)}$",
            "text/plain": [
              "        8         \n",
              "──────────────────\n",
              "  ⎛ 2   18⋅s   24⎞\n",
              "5⋅⎜s  + ──── + ──⎟\n",
              "  ⎝      5     5 ⎠"
            ]
          },
          "metadata": {},
          "execution_count": 29
        }
      ]
    },
    {
      "cell_type": "markdown",
      "source": [
        "# **Laplace Transform:**"
      ],
      "metadata": {
        "id": "A9xNtFL-D2pN"
      }
    },
    {
      "cell_type": "code",
      "source": [
        "from lcapy import *\n",
        "\n",
        "f0 = symbol('f0')\n",
        "delta_ = delta(t)\n",
        "ddelta = delta_.diff()\n",
        "x = (3-2*f0)*delta_ + ((f0**2)/2 + ((f0**2)/2 - 6*f0 - 2)*cos(2*t) + ( (3*f0**2)/2 + 2*f0 - 6)*sin(2*t)) * u(t) + ddelta\n",
        "x.expr"
      ],
      "metadata": {
        "colab": {
          "base_uri": "https://localhost:8080/",
          "height": 58
        },
        "id": "hmuoKDx-_G7h",
        "outputId": "0467cd78-fd91-4d57-a888-13d1e7ff06e2"
      },
      "execution_count": 30,
      "outputs": [
        {
          "output_type": "execute_result",
          "data": {
            "image/png": "[encoded data removed]",
            "text/latex": "$\\displaystyle \\left(3 - 2 f_{0}\\right) \\delta\\left(t\\right) + \\left(\\frac{f_{0}^{2}}{2} + \\left(\\frac{f_{0}^{2}}{2} - 6 f_{0} - 2\\right) \\cos{\\left(2 t \\right)} + \\left(\\frac{3 f_{0}^{2}}{2} + 2 f_{0} - 6\\right) \\sin{\\left(2 t \\right)}\\right) u\\left(t\\right) + \\delta^{\\left( 1 \\right)}\\left( t \\right)$",
            "text/plain": [
              "                  ⎛  2   ⎛  2           ⎞            ⎛    2           ⎞       \n",
              "                  ⎜f₀    ⎜f₀            ⎟            ⎜3⋅f₀            ⎟       \n",
              "(3 - 2⋅f₀)⋅δ(t) + ⎜─── + ⎜─── - 6⋅f₀ - 2⎟⋅cos(2⋅t) + ⎜───── + 2⋅f₀ - 6⎟⋅sin(2⋅\n",
              "                  ⎝ 2    ⎝ 2            ⎠            ⎝  2             ⎠       \n",
              "\n",
              "  ⎞                \n",
              "  ⎟         (1)    \n",
              "t)⎟⋅u(t) + δ    (t)\n",
              "  ⎠                "
            ]
          },
          "metadata": {},
          "execution_count": 30
        }
      ]
    },
    {
      "cell_type": "markdown",
      "source": [
        "**الف)**"
      ],
      "metadata": {
        "id": "8MFdEpzLD8Ko"
      }
    },
    {
      "cell_type": "code",
      "source": [
        "x_LT = x.LT()\n",
        "x_LT.expr"
      ],
      "metadata": {
        "colab": {
          "base_uri": "https://localhost:8080/",
          "height": 67
        },
        "id": "kWKWkiB8D-0a",
        "outputId": "4ba073b6-5bac-47c4-cae3-9d4fd96cb4cd"
      },
      "execution_count": 31,
      "outputs": [
        {
          "output_type": "execute_result",
          "data": {
            "image/png": "[encoded data removed]",
            "text/latex": "$\\displaystyle \\frac{f_{0}^{2}}{2 s} - 2 f_{0} + s + \\frac{s \\left(\\frac{f_{0}^{2}}{2} - 6 f_{0} - 2\\right)}{s^{2} + 4} + 3 + \\frac{2 \\left(\\frac{3 f_{0}^{2}}{2} + 2 f_{0} - 6\\right)}{s^{2} + 4}$",
            "text/plain": [
              "                   ⎛  2           ⎞         ⎛    2           ⎞\n",
              "                   ⎜f₀            ⎟         ⎜3⋅f₀            ⎟\n",
              "  2              s⋅⎜─── - 6⋅f₀ - 2⎟       2⋅⎜───── + 2⋅f₀ - 6⎟\n",
              "f₀                 ⎝ 2            ⎠         ⎝  2             ⎠\n",
              "─── - 2⋅f₀ + s + ────────────────── + 3 + ────────────────────\n",
              "2⋅s                     2                         2           \n",
              "                       s  + 4                    s  + 4       "
            ]
          },
          "metadata": {},
          "execution_count": 31
        }
      ]
    },
    {
      "cell_type": "markdown",
      "source": [
        "**ب)**"
      ],
      "metadata": {
        "id": "31H1ybq0INov"
      }
    },
    {
      "cell_type": "code",
      "source": [
        "xp, defs = x_LT.parameterize()\n",
        "defs = {'f0': 2}\n",
        "X_s = xp.subs(defs).expr\n",
        "X_s"
      ],
      "metadata": {
        "colab": {
          "base_uri": "https://localhost:8080/",
          "height": 52
        },
        "id": "T9ufSzkeEW8e",
        "outputId": "699d914b-95db-4c25-e486-db647cf435dc"
      },
      "execution_count": 32,
      "outputs": [
        {
          "output_type": "execute_result",
          "data": {
            "image/png": "[encoded data removed]",
            "text/latex": "$\\displaystyle s - \\frac{12 s}{s^{2} + 4} - 1 + \\frac{8}{s^{2} + 4} + \\frac{2}{s}$",
            "text/plain": [
              "     12⋅s          8      2\n",
              "s - ────── - 1 + ────── + ─\n",
              "     2            2       s\n",
              "    s  + 4       s  + 4    "
            ]
          },
          "metadata": {},
          "execution_count": 32
        }
      ]
    },
    {
      "cell_type": "markdown",
      "source": [
        "**ج)**"
      ],
      "metadata": {
        "id": "igyC016-KSl7"
      }
    },
    {
      "cell_type": "code",
      "source": [
        "from lcapy import s, j, transfer\n",
        "\n",
        "X = transfer(X_s)\n",
        "X.plot(title = \"Poles and Zeros\")"
      ],
      "metadata": {
        "colab": {
          "base_uri": "https://localhost:8080/",
          "height": 312
        },
        "id": "yRL3M4pcJKLs",
        "outputId": "506ccc5e-f4fd-4007-ce80-b1e19da0c69a"
      },
      "execution_count": 33,
      "outputs": [
        {
          "output_type": "execute_result",
          "data": {
            "text/plain": [
              "<matplotlib.axes._subplots.AxesSubplot at 0x7f2b3dc7b990>"
            ]
          },
          "metadata": {},
          "execution_count": 33
        },
        {
          "output_type": "display_data",
          "data": {
            "image/png": "[encoded data removed]",
            "text/plain": [
              "<Figure size 432x288 with 1 Axes>"
            ]
          },
          "metadata": {
            "needs_background": "light"
          }
        }
      ]
    }
  ]
}