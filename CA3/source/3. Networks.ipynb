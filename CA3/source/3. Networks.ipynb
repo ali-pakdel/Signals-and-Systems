{
  "nbformat": 4,
  "nbformat_minor": 0,
  "metadata": {
    "colab": {
      "name": "CA3_Q3.ipynb",
      "provenance": [],
      "collapsed_sections": []
    },
    "kernelspec": {
      "name": "python3",
      "display_name": "Python 3"
    },
    "language_info": {
      "name": "python"
    }
  },
  "cells": [
    {
      "cell_type": "code",
      "source": [
        "! pip install git+https://github.com/mph-/lcapy.git#egg=lcapy"
      ],
      "metadata": {
        "colab": {
          "base_uri": "https://localhost:8080/"
        },
        "id": "QtArZXXkQkuk",
        "outputId": "30670c7f-9335-40cf-93e2-d67af6f99854"
      },
      "execution_count": null,
      "outputs": [
        {
          "output_type": "stream",
          "name": "stdout",
          "text": [
            "Collecting lcapy\n",
            "  Cloning https://github.com/mph-/lcapy.git to /tmp/pip-install-78kiymbr/lcapy_f8ea9d7fa024427a913e0e3d43d12f25\n",
            "  Running command git clone -q https://github.com/mph-/lcapy.git /tmp/pip-install-78kiymbr/lcapy_f8ea9d7fa024427a913e0e3d43d12f25\n",
            "Requirement already satisfied: matplotlib in /usr/local/lib/python3.7/dist-packages (from lcapy) (3.2.2)\n",
            "Requirement already satisfied: scipy in /usr/local/lib/python3.7/dist-packages (from lcapy) (1.4.1)\n",
            "Requirement already satisfied: numpy in /usr/local/lib/python3.7/dist-packages (from lcapy) (1.19.5)\n",
            "Requirement already satisfied: sympy>=1.7.1 in /usr/local/lib/python3.7/dist-packages (from lcapy) (1.7.1)\n",
            "Requirement already satisfied: networkx in /usr/local/lib/python3.7/dist-packages (from lcapy) (2.6.3)\n",
            "Requirement already satisfied: IPython in /usr/local/lib/python3.7/dist-packages (from lcapy) (5.5.0)\n",
            "Requirement already satisfied: setuptools in /usr/local/lib/python3.7/dist-packages (from lcapy) (57.4.0)\n",
            "Requirement already satisfied: wheel in /usr/local/lib/python3.7/dist-packages (from lcapy) (0.37.1)\n",
            "Collecting property_cached\n",
            "  Downloading property_cached-1.6.4-py2.py3-none-any.whl (7.8 kB)\n",
            "Requirement already satisfied: mpmath>=0.19 in /usr/local/lib/python3.7/dist-packages (from sympy>=1.7.1->lcapy) (1.2.1)\n",
            "Requirement already satisfied: pygments in /usr/local/lib/python3.7/dist-packages (from IPython->lcapy) (2.6.1)\n",
            "Requirement already satisfied: prompt-toolkit<2.0.0,>=1.0.4 in /usr/local/lib/python3.7/dist-packages (from IPython->lcapy) (1.0.18)\n",
            "Requirement already satisfied: decorator in /usr/local/lib/python3.7/dist-packages (from IPython->lcapy) (4.4.2)\n",
            "Requirement already satisfied: simplegeneric>0.8 in /usr/local/lib/python3.7/dist-packages (from IPython->lcapy) (0.8.1)\n",
            "Requirement already satisfied: pexpect in /usr/local/lib/python3.7/dist-packages (from IPython->lcapy) (4.8.0)\n",
            "Requirement already satisfied: traitlets>=4.2 in /usr/local/lib/python3.7/dist-packages (from IPython->lcapy) (5.1.1)\n",
            "Requirement already satisfied: pickleshare in /usr/local/lib/python3.7/dist-packages (from IPython->lcapy) (0.7.5)\n",
            "Requirement already satisfied: six>=1.9.0 in /usr/local/lib/python3.7/dist-packages (from prompt-toolkit<2.0.0,>=1.0.4->IPython->lcapy) (1.15.0)\n",
            "Requirement already satisfied: wcwidth in /usr/local/lib/python3.7/dist-packages (from prompt-toolkit<2.0.0,>=1.0.4->IPython->lcapy) (0.2.5)\n",
            "Requirement already satisfied: kiwisolver>=1.0.1 in /usr/local/lib/python3.7/dist-packages (from matplotlib->lcapy) (1.3.2)\n",
            "Requirement already satisfied: cycler>=0.10 in /usr/local/lib/python3.7/dist-packages (from matplotlib->lcapy) (0.11.0)\n",
            "Requirement already satisfied: python-dateutil>=2.1 in /usr/local/lib/python3.7/dist-packages (from matplotlib->lcapy) (2.8.2)\n",
            "Requirement already satisfied: pyparsing!=2.0.4,!=2.1.2,!=2.1.6,>=2.0.1 in /usr/local/lib/python3.7/dist-packages (from matplotlib->lcapy) (3.0.6)\n",
            "Requirement already satisfied: ptyprocess>=0.5 in /usr/local/lib/python3.7/dist-packages (from pexpect->IPython->lcapy) (0.7.0)\n",
            "Building wheels for collected packages: lcapy\n",
            "  Building wheel for lcapy (setup.py) ... \u001b[?25l\u001b[?25hdone\n",
            "  Created wheel for lcapy: filename=lcapy-1.2.dev0-py3-none-any.whl size=353463 sha256=4a9951eb1bbca4ef210701382d23506cdb25344356d7a349aacb805b6fc66cb2\n",
            "  Stored in directory: /tmp/pip-ephem-wheel-cache-wjcbl4o2/wheels/44/95/6d/11b4afa6bca0b7ec709f28d03b26d3226463739d3d83557d77\n",
            "Successfully built lcapy\n",
            "Installing collected packages: property-cached, lcapy\n",
            "Successfully installed lcapy-1.2.dev0 property-cached-1.6.4\n"
          ]
        }
      ]
    },
    {
      "cell_type": "markdown",
      "source": [
        "## **سوال ۳**"
      ],
      "metadata": {
        "id": "_qvQiTLqQhNj"
      }
    },
    {
      "cell_type": "code",
      "source": [
        "from lcapy import *\n",
        "\n",
        "Z = impedance(4*((15*(s**2)+112*s+80)/(s*(15*(s**2)+138*s+136))))\n",
        "Z.expr"
      ],
      "metadata": {
        "colab": {
          "base_uri": "https://localhost:8080/",
          "height": 60
        },
        "id": "Y7DQxNv0NgJk",
        "outputId": "f9b619c1-85ba-4bd5-c81e-bed05ee9724f"
      },
      "execution_count": null,
      "outputs": [
        {
          "output_type": "execute_result",
          "data": {
            "image/png": "[encoded data removed]",
            "text/latex": "$\\displaystyle \\frac{4 \\left(15 s^{2} + 112 s + 80\\right)}{s \\left(15 s^{2} + 138 s + 136\\right)}$",
            "text/plain": [
              "   ⎛    2             ⎞\n",
              " 4⋅⎝15⋅s  + 112⋅s + 80⎠\n",
              "───────────────────────\n",
              "  ⎛    2              ⎞\n",
              "s⋅⎝15⋅s  + 138⋅s + 136⎠"
            ]
          },
          "metadata": {},
          "execution_count": 2
        }
      ]
    },
    {
      "cell_type": "markdown",
      "source": [
        "**الف)**"
      ],
      "metadata": {
        "id": "tyoE51jPf8-S"
      }
    },
    {
      "cell_type": "code",
      "source": [
        "Z.network()"
      ],
      "metadata": {
        "colab": {
          "base_uri": "https://localhost:8080/",
          "height": 38
        },
        "id": "rf0Qt2RoOCOP",
        "outputId": "9d160784-35b4-4eb5-bad3-f2106fa6b3d7"
      },
      "execution_count": null,
      "outputs": [
        {
          "output_type": "execute_result",
          "data": {
            "text/latex": "$(((\\mathrm{C}(\\frac{121}{1295}) + \\mathrm{R}(\\frac{67081}{6292})) | \\mathrm{C}(\\frac{169}{2072})) + \\mathrm{R}(\\frac{30}{13})) | \\mathrm{C}(\\frac{1}{4})$",
            "text/plain": [
              "(((C(121 \n",
              "────\n",
              "1295) + R(67081\n",
              "─────\n",
              " 6292)) | C(169 \n",
              "────\n",
              "2072)) + R(30\n",
              "──\n",
              "13)) | C(1/4)"
            ]
          },
          "metadata": {},
          "execution_count": 3
        }
      ]
    },
    {
      "cell_type": "markdown",
      "source": [
        "**ب)**"
      ],
      "metadata": {
        "id": "WP2czlXlgAgi"
      }
    },
    {
      "cell_type": "code",
      "source": [
        "from lcapy import *\n",
        "from numpy import logspace\n",
        "from matplotlib.pyplot import figure, savefig\n",
        "\n",
        "N = R(10) + L(1e-2)\n",
        "\n",
        "vf = logspace(0, 5, 400)\n",
        "Z = N.Z(f).evaluate(vf)\n",
        "\n",
        "fig = figure()\n",
        "ax = fig.add_subplot(111)\n",
        "ax.loglog(vf, abs(Z), linewidth=2)\n",
        "ax.set_xlabel('Frequency (Hz)')\n",
        "ax.set_ylabel('Impedance (ohms)')\n",
        "ax.set_title(\"Imdedance of circut\")\n",
        "ax.grid(True)"
      ],
      "metadata": {
        "colab": {
          "base_uri": "https://localhost:8080/",
          "height": 299
        },
        "id": "ahSxTX-2SB6j",
        "outputId": "1d1247ac-b465-48d6-94e4-c0e444548ee0"
      },
      "execution_count": null,
      "outputs": [
        {
          "output_type": "display_data",
          "data": {
            "image/png": "[encoded data removed]",
            "text/plain": [
              "<Figure size 432x288 with 1 Axes>"
            ]
          },
          "metadata": {
            "needs_background": "light"
          }
        }
      ]
    },
    {
      "cell_type": "markdown",
      "source": [
        "**ج)**"
      ],
      "metadata": {
        "id": "F-YjiirygCHq"
      }
    },
    {
      "cell_type": "code",
      "source": [
        "from numpy import linspace\n",
        "\n",
        "N = Vstep(20) + R(10) + L(1e-2)\n",
        "\n",
        "vt = linspace(0, 0.01, 1000)\n",
        "N.Isc(t).plot(vt, title = \"$I_{short-circut}$\")\n",
        "\n",
        "N.Voc(t).plot(vt, title = \"$V_{open-circut}$\")"
      ],
      "metadata": {
        "colab": {
          "base_uri": "https://localhost:8080/",
          "height": 592
        },
        "id": "MXfbBrRUSOIS",
        "outputId": "03c4ed97-4a80-4ab1-ad80-f7a1fdf569a8"
      },
      "execution_count": null,
      "outputs": [
        {
          "output_type": "execute_result",
          "data": {
            "text/plain": [
              "<matplotlib.axes._subplots.AxesSubplot at 0x7f9819d19ad0>"
            ]
          },
          "metadata": {},
          "execution_count": 5
        },
        {
          "output_type": "display_data",
          "data": {
            "image/png": "[encoded data removed]",
            "text/plain": [
              "<Figure size 432x288 with 1 Axes>"
            ]
          },
          "metadata": {
            "needs_background": "light"
          }
        },
        {
          "output_type": "display_data",
          "data": {
            "image/png": "[encoded data removed]",
            "text/plain": [
              "<Figure size 432x288 with 1 Axes>"
            ]
          },
          "metadata": {
            "needs_background": "light"
          }
        }
      ]
    }
  ]
}