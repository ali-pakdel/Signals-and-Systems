{
  "nbformat": 4,
  "nbformat_minor": 0,
  "metadata": {
    "colab": {
      "name": "CA3_Q5.ipynb",
      "provenance": [],
      "collapsed_sections": []
    },
    "kernelspec": {
      "name": "python3",
      "display_name": "Python 3"
    },
    "language_info": {
      "name": "python"
    }
  },
  "cells": [
    {
      "cell_type": "code",
      "source": [
        "! pip install git+https://github.com/mph-/lcapy.git#egg=lcapy"
      ],
      "metadata": {
        "colab": {
          "base_uri": "https://localhost:8080/"
        },
        "id": "ztXvB065SNM2",
        "outputId": "489f5f47-b026-4f06-ef89-31cd97bd721f"
      },
      "execution_count": 2,
      "outputs": [
        {
          "output_type": "stream",
          "name": "stdout",
          "text": [
            "Collecting lcapy\n",
            "  Cloning https://github.com/mph-/lcapy.git to /tmp/pip-install-w607u1fw/lcapy_920af79ff25a418a850654e4ea488e15\n",
            "  Running command git clone -q https://github.com/mph-/lcapy.git /tmp/pip-install-w607u1fw/lcapy_920af79ff25a418a850654e4ea488e15\n",
            "Requirement already satisfied: matplotlib in /usr/local/lib/python3.7/dist-packages (from lcapy) (3.2.2)\n",
            "Requirement already satisfied: scipy in /usr/local/lib/python3.7/dist-packages (from lcapy) (1.4.1)\n",
            "Requirement already satisfied: numpy in /usr/local/lib/python3.7/dist-packages (from lcapy) (1.19.5)\n",
            "Requirement already satisfied: sympy>=1.7.1 in /usr/local/lib/python3.7/dist-packages (from lcapy) (1.7.1)\n",
            "Requirement already satisfied: networkx in /usr/local/lib/python3.7/dist-packages (from lcapy) (2.6.3)\n",
            "Requirement already satisfied: IPython in /usr/local/lib/python3.7/dist-packages (from lcapy) (5.5.0)\n",
            "Requirement already satisfied: setuptools in /usr/local/lib/python3.7/dist-packages (from lcapy) (57.4.0)\n",
            "Requirement already satisfied: wheel in /usr/local/lib/python3.7/dist-packages (from lcapy) (0.37.1)\n",
            "Collecting property_cached\n",
            "  Downloading property_cached-1.6.4-py2.py3-none-any.whl (7.8 kB)\n",
            "Requirement already satisfied: mpmath>=0.19 in /usr/local/lib/python3.7/dist-packages (from sympy>=1.7.1->lcapy) (1.2.1)\n",
            "Requirement already satisfied: simplegeneric>0.8 in /usr/local/lib/python3.7/dist-packages (from IPython->lcapy) (0.8.1)\n",
            "Requirement already satisfied: prompt-toolkit<2.0.0,>=1.0.4 in /usr/local/lib/python3.7/dist-packages (from IPython->lcapy) (1.0.18)\n",
            "Requirement already satisfied: decorator in /usr/local/lib/python3.7/dist-packages (from IPython->lcapy) (4.4.2)\n",
            "Requirement already satisfied: pygments in /usr/local/lib/python3.7/dist-packages (from IPython->lcapy) (2.6.1)\n",
            "Requirement already satisfied: pexpect in /usr/local/lib/python3.7/dist-packages (from IPython->lcapy) (4.8.0)\n",
            "Requirement already satisfied: pickleshare in /usr/local/lib/python3.7/dist-packages (from IPython->lcapy) (0.7.5)\n",
            "Requirement already satisfied: traitlets>=4.2 in /usr/local/lib/python3.7/dist-packages (from IPython->lcapy) (5.1.1)\n",
            "Requirement already satisfied: wcwidth in /usr/local/lib/python3.7/dist-packages (from prompt-toolkit<2.0.0,>=1.0.4->IPython->lcapy) (0.2.5)\n",
            "Requirement already satisfied: six>=1.9.0 in /usr/local/lib/python3.7/dist-packages (from prompt-toolkit<2.0.0,>=1.0.4->IPython->lcapy) (1.15.0)\n",
            "Requirement already satisfied: cycler>=0.10 in /usr/local/lib/python3.7/dist-packages (from matplotlib->lcapy) (0.11.0)\n",
            "Requirement already satisfied: pyparsing!=2.0.4,!=2.1.2,!=2.1.6,>=2.0.1 in /usr/local/lib/python3.7/dist-packages (from matplotlib->lcapy) (3.0.6)\n",
            "Requirement already satisfied: kiwisolver>=1.0.1 in /usr/local/lib/python3.7/dist-packages (from matplotlib->lcapy) (1.3.2)\n",
            "Requirement already satisfied: python-dateutil>=2.1 in /usr/local/lib/python3.7/dist-packages (from matplotlib->lcapy) (2.8.2)\n",
            "Requirement already satisfied: ptyprocess>=0.5 in /usr/local/lib/python3.7/dist-packages (from pexpect->IPython->lcapy) (0.7.0)\n",
            "Building wheels for collected packages: lcapy\n",
            "  Building wheel for lcapy (setup.py) ... \u001b[?25l\u001b[?25hdone\n",
            "  Created wheel for lcapy: filename=lcapy-1.2.2-py3-none-any.whl size=353545 sha256=0878ada8747b09d23817f7d564b7fb0994068d8c2240ef994491d7e92711af84\n",
            "  Stored in directory: /tmp/pip-ephem-wheel-cache-a3r23gqh/wheels/44/95/6d/11b4afa6bca0b7ec709f28d03b26d3226463739d3d83557d77\n",
            "Successfully built lcapy\n",
            "Installing collected packages: property-cached, lcapy\n",
            "Successfully installed lcapy-1.2.2 property-cached-1.6.4\n"
          ]
        }
      ]
    },
    {
      "cell_type": "markdown",
      "source": [
        "## **سوال ۵**"
      ],
      "metadata": {
        "id": "dZOZPRNW-smM"
      }
    },
    {
      "cell_type": "markdown",
      "source": [
        "**الف)**"
      ],
      "metadata": {
        "id": "Irj_stYDEZ_Y"
      }
    },
    {
      "cell_type": "code",
      "source": [
        "from lcapy import *\n",
        "\n",
        "a = symbol('a')\n",
        "b = symbol('b')\n",
        "c = symbol('c')\n",
        "d = symbol('d')\n",
        "\n",
        "lpf = DLTIFilter((a, b), (1, c, d))\n",
        "LPF=lpf.difference_equation()\n",
        "LPF.expr"
      ],
      "metadata": {
        "colab": {
          "base_uri": "https://localhost:8080/",
          "height": 38
        },
        "id": "wGLd58aKDcd5",
        "outputId": "c8f33c10-ec28-49e6-ba2d-bbf4ff9c958d"
      },
      "execution_count": 3,
      "outputs": [
        {
          "output_type": "execute_result",
          "data": {
            "image/png": "[encoded data removed]",
            "text/latex": "$\\displaystyle y(n) = a x(n) + b x(n - 1) - c y(n - 1) - d y(n - 2)$",
            "text/plain": [
              "y(n) = a⋅x(n) + b⋅x(n - 1) - c⋅y(n - 1) - d⋅y(n - 2)"
            ]
          },
          "metadata": {},
          "execution_count": 3
        }
      ]
    },
    {
      "cell_type": "markdown",
      "source": [
        "**ب)**"
      ],
      "metadata": {
        "id": "kfLR9GhhEYYn"
      }
    },
    {
      "cell_type": "code",
      "source": [
        "LPF_z = LPF.transfer_function()\n",
        "LPF_z.expr"
      ],
      "metadata": {
        "colab": {
          "base_uri": "https://localhost:8080/",
          "height": 71
        },
        "id": "OyfZDYHo-wx4",
        "outputId": "5800c77d-bf89-49f7-91a9-9735a9c20ead"
      },
      "execution_count": 23,
      "outputs": [
        {
          "output_type": "execute_result",
          "data": {
            "text/latex": "$\\displaystyle \\frac{\\left(- \\frac{c}{2} - \\frac{\\sqrt{c^{2} - 4 d}}{2}\\right)^{n} \\left(a c + a \\sqrt{c^{2} - 4 d} - 2 b\\right)}{2 \\sqrt{c^{2} - 4 d}} + \\frac{\\left(- \\frac{c}{2} + \\frac{\\sqrt{c^{2} - 4 d}}{2}\\right)^{n} \\left(- a c + a \\sqrt{c^{2} - 4 d} + 2 b\\right)}{2 \\sqrt{c^{2} - 4 d}} \\;\\; \\text{for}\\: n \\geq 0$",
            "text/plain": [
              "                     n                                                      n \n",
              "⎛         __________⎞                                  ⎛         __________⎞  \n",
              "⎜        ╱  2       ⎟  ⎛           __________      ⎞   ⎜        ╱  2       ⎟  \n",
              "⎜  c   ╲╱  c  - 4⋅d ⎟  ⎜          ╱  2             ⎟   ⎜  c   ╲╱  c  - 4⋅d ⎟  \n",
              "⎜- ─ - ─────────────⎟ ⋅⎝a⋅c + a⋅╲╱  c  - 4⋅d  - 2⋅b⎠   ⎜- ─ + ─────────────⎟ ⋅\n",
              "⎝  2         2      ⎠                                  ⎝  2         2      ⎠  \n",
              "──────────────────────────────────────────────────── + ───────────────────────\n",
              "                       __________                                             \n",
              "                      ╱  2                                                    \n",
              "                  2⋅╲╱  c  - 4⋅d                                          2⋅╲╱\n",
              "\n",
              "                                         \n",
              "                                         \n",
              "⎛            __________      ⎞           \n",
              "⎜           ╱  2             ⎟           \n",
              "⎝-a⋅c + a⋅╲╱  c  - 4⋅d  + 2⋅b⎠           \n",
              "                                         \n",
              "──────────────────────────────  for n ≥ 0\n",
              " __________                              \n",
              "╱  2                                     \n",
              "  c  - 4⋅d                               "
            ]
          },
          "metadata": {},
          "execution_count": 23
        }
      ]
    },
    {
      "cell_type": "markdown",
      "source": [
        "**ج)**"
      ],
      "metadata": {
        "id": "3PB91OrG-vko"
      }
    },
    {
      "cell_type": "code",
      "source": [
        "LPF_z.IZT().expr"
      ],
      "metadata": {
        "id": "Lu2bxeucGamr",
        "colab": {
          "base_uri": "https://localhost:8080/",
          "height": 71
        },
        "outputId": "6ce82172-a6fb-4c7e-dc92-8239d6007cc7"
      },
      "execution_count": 26,
      "outputs": [
        {
          "output_type": "execute_result",
          "data": {
            "text/latex": "$\\displaystyle \\frac{\\left(- \\frac{c}{2} - \\frac{\\sqrt{c^{2} - 4 d}}{2}\\right)^{n} \\left(a c + a \\sqrt{c^{2} - 4 d} - 2 b\\right)}{2 \\sqrt{c^{2} - 4 d}} + \\frac{\\left(- \\frac{c}{2} + \\frac{\\sqrt{c^{2} - 4 d}}{2}\\right)^{n} \\left(- a c + a \\sqrt{c^{2} - 4 d} + 2 b\\right)}{2 \\sqrt{c^{2} - 4 d}} \\;\\; \\text{for}\\: n \\geq 0$",
            "text/plain": [
              "                     n                                                      n \n",
              "⎛         __________⎞                                  ⎛         __________⎞  \n",
              "⎜        ╱  2       ⎟  ⎛           __________      ⎞   ⎜        ╱  2       ⎟  \n",
              "⎜  c   ╲╱  c  - 4⋅d ⎟  ⎜          ╱  2             ⎟   ⎜  c   ╲╱  c  - 4⋅d ⎟  \n",
              "⎜- ─ - ─────────────⎟ ⋅⎝a⋅c + a⋅╲╱  c  - 4⋅d  - 2⋅b⎠   ⎜- ─ + ─────────────⎟ ⋅\n",
              "⎝  2         2      ⎠                                  ⎝  2         2      ⎠  \n",
              "──────────────────────────────────────────────────── + ───────────────────────\n",
              "                       __________                                             \n",
              "                      ╱  2                                                    \n",
              "                  2⋅╲╱  c  - 4⋅d                                          2⋅╲╱\n",
              "\n",
              "                                         \n",
              "                                         \n",
              "⎛            __________      ⎞           \n",
              "⎜           ╱  2             ⎟           \n",
              "⎝-a⋅c + a⋅╲╱  c  - 4⋅d  + 2⋅b⎠           \n",
              "                                         \n",
              "──────────────────────────────  for n ≥ 0\n",
              " __________                              \n",
              "╱  2                                     \n",
              "  c  - 4⋅d                               "
            ]
          },
          "metadata": {},
          "execution_count": 26
        }
      ]
    },
    {
      "cell_type": "markdown",
      "source": [
        " **د)**"
      ],
      "metadata": {
        "id": "ezZI8Qq6GnB_"
      }
    },
    {
      "cell_type": "code",
      "source": [
        "de = difference_equation('y(n)', 'x(n) + x(n - 1) + 3 * y(n - 1) -2*y(n - 2)')\n",
        "de.expr"
      ],
      "metadata": {
        "colab": {
          "base_uri": "https://localhost:8080/",
          "height": 38
        },
        "id": "-X17XM-KGmbY",
        "outputId": "c6620643-0790-4b19-cb3c-9ba00b552191"
      },
      "execution_count": 9,
      "outputs": [
        {
          "output_type": "execute_result",
          "data": {
            "image/png": "[encoded data removed]",
            "text/latex": "$\\displaystyle y(n) = x(n) + x(n - 1) - 2 y(n - 2) + 3 y(n - 1)$",
            "text/plain": [
              "y(n) = x(n) + x(n - 1) - 2⋅y(n - 2) + 3⋅y(n - 1)"
            ]
          },
          "metadata": {},
          "execution_count": 9
        }
      ]
    },
    {
      "cell_type": "markdown",
      "source": [
        "**ه)**"
      ],
      "metadata": {
        "id": "Zk0F1s8AHdTH"
      }
    },
    {
      "cell_type": "code",
      "source": [
        "LPF_z.difference_equation('x', 'y', 'iir').expr"
      ],
      "metadata": {
        "colab": {
          "base_uri": "https://localhost:8080/",
          "height": 38
        },
        "id": "Qxl4ZgkQHfl6",
        "outputId": "b3a0f853-ae73-40bb-dc5f-6cd569dd9398"
      },
      "execution_count": 10,
      "outputs": [
        {
          "output_type": "execute_result",
          "data": {
            "image/png": "[encoded data removed]",
            "text/latex": "$\\displaystyle y(n) = a x(n) + b x(n - 1) - c y(n - 1) - d y(n - 2)$",
            "text/plain": [
              "y(n) = a⋅x(n) + b⋅x(n - 1) - c⋅y(n - 1) - d⋅y(n - 2)"
            ]
          },
          "metadata": {},
          "execution_count": 10
        }
      ]
    },
    {
      "cell_type": "markdown",
      "source": [
        "**و)**"
      ],
      "metadata": {
        "id": "Hibk45O-LOgA"
      }
    },
    {
      "cell_type": "code",
      "source": [
        "x = (2)**n * u(n)\n",
        "x.expr"
      ],
      "metadata": {
        "colab": {
          "base_uri": "https://localhost:8080/",
          "height": 38
        },
        "id": "8oW6hIKLLRSg",
        "outputId": "3c000ad9-8a3a-4ecb-dab4-bffc8f2d0fff"
      },
      "execution_count": 21,
      "outputs": [
        {
          "output_type": "execute_result",
          "data": {
            "image/png": "[encoded data removed]",
            "text/latex": "$\\displaystyle 2^{n} u\\left[n\\right]$",
            "text/plain": [
              " n     \n",
              "2 ⋅u[n]"
            ]
          },
          "metadata": {},
          "execution_count": 21
        }
      ]
    },
    {
      "cell_type": "code",
      "source": [
        "lpf.response(x,ni=(1, 3))"
      ],
      "metadata": {
        "colab": {
          "base_uri": "https://localhost:8080/",
          "height": 38
        },
        "id": "Kn3KrossLfER",
        "outputId": "aa1fdab2-c456-4f78-83fc-946f797a040d"
      },
      "execution_count": 22,
      "outputs": [
        {
          "output_type": "execute_result",
          "data": {
            "text/latex": "$$\\left\\{\\underline{0}, 2 a + b, 4 a + 2 b - c \\left(2 a + b\\right), 8 a + 4 b - c \\left(4 a + 2 b - c \\left(2 a + b\\right)\\right) - d \\left(2 a + b\\right)\\right\\}$$",
            "text/plain": [
              "{_0, 2⋅a + b, 4⋅a + 2⋅b - c⋅(2⋅a + b), 8⋅a + 4⋅b - c⋅(4⋅a + 2⋅b - c⋅(2⋅a + b))\n",
              " - d⋅(2⋅a + b)}"
            ]
          },
          "metadata": {},
          "execution_count": 22
        }
      ]
    }
  ]
}